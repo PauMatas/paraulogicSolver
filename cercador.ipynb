{
 "cells": [
  {
   "cell_type": "code",
   "execution_count": 1,
   "id": "2cc1b7ab",
   "metadata": {},
   "outputs": [],
   "source": [
    "from paraulogicSolver import paraulogicSolver"
   ]
  },
  {
   "cell_type": "code",
   "execution_count": null,
   "id": "c2a06a48",
   "metadata": {},
   "outputs": [],
   "source": [
    "prova = paraulogicSolver({'c','a','r','l','i','m'},'g')"
   ]
  },
  {
   "cell_type": "code",
   "execution_count": null,
   "id": "20bfbab3",
   "metadata": {
    "scrolled": false
   },
   "outputs": [],
   "source": [
    "prova"
   ]
  },
  {
   "cell_type": "code",
   "execution_count": null,
   "id": "741f54b7",
   "metadata": {},
   "outputs": [],
   "source": [
    "prova.mostrarTutis()"
   ]
  },
  {
   "cell_type": "code",
   "execution_count": null,
   "id": "d7dc13a2",
   "metadata": {},
   "outputs": [],
   "source": [
    "len(prova.respostes)"
   ]
  },
  {
   "cell_type": "code",
   "execution_count": null,
   "id": "f2983444",
   "metadata": {},
   "outputs": [],
   "source": []
  }
 ],
 "metadata": {
  "kernelspec": {
   "display_name": "Python 3 (ipykernel)",
   "language": "python",
   "name": "python3"
  },
  "language_info": {
   "codemirror_mode": {
    "name": "ipython",
    "version": 3
   },
   "file_extension": ".py",
   "mimetype": "text/x-python",
   "name": "python",
   "nbconvert_exporter": "python",
   "pygments_lexer": "ipython3",
   "version": "3.9.9"
  }
 },
 "nbformat": 4,
 "nbformat_minor": 5
}
