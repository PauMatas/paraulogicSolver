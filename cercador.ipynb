{
 "cells": [
  {
   "cell_type": "code",
   "execution_count": 1,
   "id": "2cc1b7ab",
   "metadata": {},
   "outputs": [],
   "source": [
    "from paraulogicSolver import paraulogicSolver"
   ]
  },
  {
   "cell_type": "code",
   "execution_count": 2,
   "id": "c2a06a48",
   "metadata": {},
   "outputs": [],
   "source": [
    "prova = paraulogicSolver({'c','a','r','l','i','m'},'g')"
   ]
  },
  {
   "cell_type": "code",
   "execution_count": 3,
   "id": "20bfbab3",
   "metadata": {
    "scrolled": false
   },
   "outputs": [
    {
     "data": {
      "text/plain": [
       "AQUI TENS TOTES LES RESPOSTES QUE HE TROBAT!\n",
       "\n",
       "> RECORDA: No totes són necessariament vàlides per al joc,\n",
       "           jo em vaso en un diccionari terminològic i no en\n",
       "           l'IEC directament. Això vol dir, que entre\n",
       "           d'altres puc dir-te conjugacions de verbs; que\n",
       "           no valen al Paraulògic.\n",
       "\n",
       "------------------------------------------------------------\n",
       "\n",
       "+ aga               + agalla            + agam              \n",
       "- agama             - agami             - agamia            \n",
       "+ agar              + agaric            + agarical          \n",
       "- agarr             - agarra            - agarram           \n",
       "+ agarrar           + agarrara          + agarraria         \n",
       "- agarri            - agil              - agla              \n",
       "+ agra              + agracia           + agraciam          \n",
       "- agraciar          - agraciara         - agraciaria        \n",
       "+ agracii           + agrai             + agraia            \n",
       "- agraim            - agrair            - agraira           \n",
       "+ agrairia          + agram             + agrari            \n",
       "- agraria           - agri              - agria             \n",
       "+ agrim             + agrima            + agrimam           \n",
       "- agrimar           - agrimara          - agrimaria         \n",
       "+ agrimi            + agrir             + agrira            \n",
       "- agriria           - alaga             - alallarg          \n",
       "+ alallarga         + alga              + algal             \n",
       "- algalia           - algaliam          - algaliar          \n",
       "+ algaliara         + algaliaria        + algalii           \n",
       "- algara            - algia             - aliga             \n",
       "+ allarg            + allarga           + allargam          \n",
       "- allargar          - allargara         - allargaria        \n",
       "+ allig             + alliga            + alligam           \n",
       "- alligar           - alligara          - alligaria         \n",
       "+ amag              + amaga             + amagam            \n",
       "- amagar            - amagara           - amagaria          \n",
       "+ amagri            + amagria           + amagrim           \n",
       "- amagrir           - amagrira          - amagriria         \n",
       "+ amalgam           + amalgama          + amalgamam         \n",
       "- amalgamar         - amalgamara        - amalgamaria       \n",
       "+ amalgami          + amarg             + amarga            \n",
       "- amargam           - amargar           - amargara          \n",
       "+ amargaria         + amig              + amiga             \n",
       "- amigam            - amigar            - amigara           \n",
       "+ amigaria          + aragall           + argali            \n",
       "- argaric           - argarica          - argil             \n",
       "+ argila            + argilam           + argilar           \n",
       "- argilara          - argilaria         - argili            \n",
       "+ cag               + caga              + cagam             \n",
       "- cagar             - cagara            - cagaria           \n",
       "+ caiga             + calcig            + calciga           \n",
       "- calcigam          - calcigar          - calcigara         \n",
       "+ calcigaria        + calga             + caliga            \n",
       "- cal·ligrama       - camallarg         - camallarga        \n",
       "+ camalliga         + caragir           + caragira          \n",
       "- caragiram         - caragirar         - caragirara        \n",
       "+ caragiraria       + caragiri          + carallarg         \n",
       "- carallarga        - carga             - cigala            \n",
       "+ cigar             + gag               + gai               \n",
       "- gaia              - gaial             - gaig              \n",
       "+ gal               + gala              + galaic            \n",
       "- galaica           - galg              - galga             \n",
       "+ galgam            + galgar            + galgara           \n",
       "- galgaria          - gall              - gal·la            \n",
       "+ gal·li            + gal·lic           + gal·lica          \n",
       "- gam               - gama              - gamam             \n",
       "+ gamar             + gamara            + gamaria           \n",
       "- gami              - gamma             - gargall           \n",
       "+ gargalla          + gargara           + garl              \n",
       "- garla             - garlam            - garlar            \n",
       "+ garlara           + garlaria          + garli             \n",
       "- garra             - garrallarg        - garrallarga       \n",
       "+ garri             + garric            + garriga           \n",
       "- garrigar          - gic               - gica              \n",
       "+ gicam             + gicar             + gicara            \n",
       "- gicaria           - giga              - gir               \n",
       "+ gira              + giram             + girar             \n",
       "- girara            - giraria           - giri              \n",
       "+ giric             + girig             + giriga            \n",
       "- girigam           - girigar           - girigara          \n",
       "+ girigaria         + gla               + glaci             \n",
       "- glacial           - glia              - gra               \n",
       "+ gracia            + graciam           + graciar           \n",
       "- graciara          - graciaria         - gracii            \n",
       "+ gracil            + grall             + gralla            \n",
       "- grallam           - grallar           - grallara          \n",
       "+ grallaria         + gralli            + gram              \n",
       "- gramalla          - grial             - griala            \n",
       "+ grill             + grilla            + grillam           \n",
       "- grillar           - grillara          - grillaria         \n",
       "+ grilli            + grimmial          + immigr            \n",
       "- immigra           - immigram          - immigrar          \n",
       "+ immigrara         + immigraria        + immigri           \n",
       "- irrig             - irriga            - irrigam           \n",
       "+ irrigar           + irrigara          + irrigaria         \n",
       "- llag              - llaga             - llagam            \n",
       "+ llagar            + llagara           + llagaria          \n",
       "- llagrima          - llagrimall        - llarg             \n",
       "+ llarga            + llargaria         + llig              \n",
       "- lliga             - lligacama         - lligall           \n",
       "+ lligam            + lligar            + lligara           \n",
       "- lligaria          - llimaga           - llirga            \n",
       "+ mag               + maga              + magall            \n",
       "- magalla           - magi              - magia             \n",
       "+ magiar            + magic             + magica            \n",
       "- magma             - magra             - magricia          \n",
       "+ maig              + malaga            + malgra            \n",
       "- marg              - marga             - margall           \n",
       "+ margam            + margar            + margara           \n",
       "- margaria          - margaric          - margarica         \n",
       "+ mialgia           + mig               + migr              \n",
       "- migra             - migram            - migrar            \n",
       "+ migrara           + migraria          + migri             \n",
       "- raga              - ragi              - raig              \n",
       "+ riga              "
      ]
     },
     "execution_count": 3,
     "metadata": {},
     "output_type": "execute_result"
    }
   ],
   "source": [
    "prova"
   ]
  },
  {
   "cell_type": "code",
   "execution_count": 4,
   "id": "741f54b7",
   "metadata": {},
   "outputs": [
    {
     "name": "stdout",
     "output_type": "stream",
     "text": [
      "AQUI TENS TOTS ELS TUTIS QUE HE TROBAT!\n",
      "\n",
      "> RECORDA: No totes són necessariament vàlides per al joc,\n",
      "           jo em vaso en un diccionari terminològic i no en\n",
      "           l'IEC directament. Això vol dir, que entre\n",
      "           d'altres puc dir-te conjugacions de verbs; que\n",
      "           no valen al Paraulògic.\n",
      "\n",
      "------------------------------------------------------------\n",
      "\n",
      "+ cal·ligrama       \n"
     ]
    }
   ],
   "source": [
    "prova.mostrarTutis()"
   ]
  },
  {
   "cell_type": "code",
   "execution_count": 5,
   "id": "d7dc13a2",
   "metadata": {},
   "outputs": [
    {
     "data": {
      "text/plain": [
       "313"
      ]
     },
     "execution_count": 5,
     "metadata": {},
     "output_type": "execute_result"
    }
   ],
   "source": [
    "len(prova.respostes)"
   ]
  },
  {
   "cell_type": "code",
   "execution_count": null,
   "id": "f2983444",
   "metadata": {},
   "outputs": [],
   "source": []
  }
 ],
 "metadata": {
  "kernelspec": {
   "display_name": "Python 3 (ipykernel)",
   "language": "python",
   "name": "python3"
  },
  "language_info": {
   "codemirror_mode": {
    "name": "ipython",
    "version": 3
   },
   "file_extension": ".py",
   "mimetype": "text/x-python",
   "name": "python",
   "nbconvert_exporter": "python",
   "pygments_lexer": "ipython3",
   "version": "3.9.9"
  }
 },
 "nbformat": 4,
 "nbformat_minor": 5
}
